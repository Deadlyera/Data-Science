{
 "cells": [
  {
   "cell_type": "code",
   "execution_count": 1,
   "id": "ba26b547",
   "metadata": {},
   "outputs": [],
   "source": [
    "import os\n",
    "import numpy as np\n",
    "import pandas as pd\n",
    "import matplotlib.pyplot as plt\n",
    "import seaborn as sns\n",
    "import ipywidgets as widgets\n",
    "from IPython.display import display\n",
    "from sklearn.preprocessing import MinMaxScaler\n",
    "import tensorflow as tf"
   ]
  },
  {
   "cell_type": "code",
   "execution_count": 2,
   "id": "94522ae9",
   "metadata": {},
   "outputs": [
    {
     "data": {
      "application/vnd.jupyter.widget-view+json": {
       "model_id": "03a074fcefc2419da84cc1194302ad78",
       "version_major": 2,
       "version_minor": 0
      },
      "text/plain": [
       "Text(value='D:\\\\Training Dataset\\\\Training Dataset\\\\February 2024', description='Folder Path:', placeholder='E…"
      ]
     },
     "metadata": {},
     "output_type": "display_data"
    },
    {
     "data": {
      "application/vnd.jupyter.widget-view+json": {
       "model_id": "6840741fa69d4f12abe0f570401725f4",
       "version_major": 2,
       "version_minor": 0
      },
      "text/plain": [
       "Button(description='Update Plots', style=ButtonStyle())"
      ]
     },
     "metadata": {},
     "output_type": "display_data"
    },
    {
     "name": "stderr",
     "output_type": "stream",
     "text": [
      "C:\\Users\\lenovo\\anaconda3\\Lib\\site-packages\\keras\\src\\layers\\rnn\\rnn.py:204: UserWarning: Do not pass an `input_shape`/`input_dim` argument to a layer. When using Sequential models, prefer using an `Input(shape)` object as the first layer in the model instead.\n",
      "  super().__init__(**kwargs)\n"
     ]
    }
   ],
   "source": [
    "# Function to load and preprocess data\n",
    "def load_and_preprocess_data(folder_path):\n",
    "    csv_files = [file for file in os.listdir(folder_path) if file.endswith('.csv')]\n",
    "    combined_data = pd.concat([pd.read_csv(os.path.join(folder_path, file)) for file in csv_files], ignore_index=True)\n",
    "    combined_data['ts'] = pd.to_datetime(combined_data['ts'])\n",
    "    combined_data.set_index('ts', inplace=True)\n",
    "    return combined_data\n",
    "\n",
    "# Function to train LSTM model\n",
    "def train_lstm_model(combined_data, seq_length=30):\n",
    "    data = combined_data[['humidity1', 'temperature1', 'humidity2', 'temperature2', 'humidity3', 'temperature3', 'humidity4', 'temperature4', 'humidity5', 'temperature5', 'humidity6', 'temperature6', 'humidity7', 'temperature7', 'humidity8', 'temperature8']]\n",
    "    scaler = MinMaxScaler()\n",
    "    scaled_data = scaler.fit_transform(data)\n",
    "\n",
    "    X, y = [], []\n",
    "    for i in range(len(scaled_data) - seq_length):\n",
    "        X.append(scaled_data[i:i + seq_length])\n",
    "        y.append(scaled_data[i + seq_length])\n",
    "    X, y = np.array(X), np.array(y)\n",
    "\n",
    "    train_size = int(len(X) * 0.8)\n",
    "    X_train, X_test = X[:train_size], X[train_size:]\n",
    "    y_train, y_test = y[:train_size], y[train_size:]\n",
    "\n",
    "    model = tf.keras.models.Sequential([\n",
    "        tf.keras.layers.LSTM(units=50, return_sequences=True, input_shape=(X_train.shape[1], X_train.shape[2])),\n",
    "        tf.keras.layers.Dropout(0.2),\n",
    "        tf.keras.layers.LSTM(units=50, return_sequences=False),\n",
    "        tf.keras.layers.Dropout(0.2),\n",
    "        tf.keras.layers.Dense(units=16),\n",
    "        tf.keras.layers.Dense(units=len(data.columns))\n",
    "    ])\n",
    "    model.compile(optimizer='adam', loss='mse')\n",
    "    history = model.fit(X_train, y_train, epochs=50, batch_size=32, validation_split=0.2, shuffle=False, verbose=0)\n",
    "    mse = model.evaluate(X_test, y_test)\n",
    "    predictions = model.predict(X_test)\n",
    "    predictions = scaler.inverse_transform(predictions)\n",
    "    y_test = scaler.inverse_transform(y_test)\n",
    "    return predictions, y_test, history\n",
    "\n",
    "# Function to update plots based on user input\n",
    "def update_plots(folder_path):\n",
    "    combined_data = load_and_preprocess_data(folder_path)\n",
    "    predictions, y_test, history = train_lstm_model(combined_data)\n",
    "    plt.figure(figsize=(12, 6))\n",
    "    plt.plot(y_test, label='Actual')\n",
    "    plt.plot(predictions, label='Predicted')\n",
    "    plt.xlabel('Time')\n",
    "    plt.ylabel('Temperature')\n",
    "    plt.title('Actual vs Predicted Temperature')\n",
    "    plt.legend()\n",
    "    plt.show()\n",
    "\n",
    "# Widget for folder path input\n",
    "folder_path_widget = widgets.Text(value=r'D:\\Training Dataset\\Training Dataset\\February 2024', placeholder='Enter folder path', description='Folder Path:', disabled=False)\n",
    "\n",
    "# Button to trigger update\n",
    "update_button = widgets.Button(description='Update Plots')\n",
    "\n",
    "# Event handler for button click\n",
    "def on_button_click(b):\n",
    "    folder_path = folder_path_widget.value\n",
    "    update_plots(folder_path)\n",
    "\n",
    "update_button.on_click(on_button_click)\n",
    "\n",
    "# Display widgets\n",
    "display(folder_path_widget)\n",
    "display(update_button)\n"
   ]
  }
 ],
 "metadata": {
  "kernelspec": {
   "display_name": "Python 3 (ipykernel)",
   "language": "python",
   "name": "python3"
  },
  "language_info": {
   "codemirror_mode": {
    "name": "ipython",
    "version": 3
   },
   "file_extension": ".py",
   "mimetype": "text/x-python",
   "name": "python",
   "nbconvert_exporter": "python",
   "pygments_lexer": "ipython3",
   "version": "3.11.5"
  }
 },
 "nbformat": 4,
 "nbformat_minor": 5
}
